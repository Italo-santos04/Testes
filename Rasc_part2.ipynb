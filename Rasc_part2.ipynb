{
  "nbformat": 4,
  "nbformat_minor": 0,
  "metadata": {
    "colab": {
      "provenance": []
    },
    "kernelspec": {
      "name": "python3",
      "display_name": "Python 3"
    },
    "language_info": {
      "name": "python"
    }
  },
  "cells": [
    {
      "cell_type": "markdown",
      "source": [
        "### 2.2.3. Tamanho\n",
        "\n",
        "O canal de codificação `size` determina o tamanho ou a escala de uma marca. O significado desse canal pode variar dependendo do tipo de marca utilizada. Para marcas do tipo `point`, o canal `size` é associado à área em pixels do símbolo de plotagem, de forma que o diâmetro do ponto seja proporcional à raiz quadrada do valor atribuído ao tamanho.\n",
        "\n",
        "Vamos melhorar nosso gráfico de dispersão utilizando o canal `size` para codificar a população (`pop`). Desta forma, o gráfico passa a incluir uma legenda que facilita a interpretação dos valores representados pelo tamanho."
      ],
      "metadata": {
        "id": "hjTqysvYJaQa"
      }
    },
    {
      "cell_type": "code",
      "source": [
        "alt.Chart(data2000).mark_point().encode(\n",
        "    alt.X('fertility:Q'),\n",
        "    alt.Y('life_expect:Q'),\n",
        "    alt.Size('pop:Q')\n",
        ")"
      ],
      "metadata": {
        "id": "uCGJYOLKON53"
      },
      "execution_count": null,
      "outputs": []
    },
    {
      "cell_type": "markdown",
      "source": [
        "Em certos casos, o tamanho padrão não nos agrada ou não atende o esperado, por isso é necessário fazer algumas alterações. Para ajustar esse intervalo, podemos configurar o parâmetro `range` do atributo `scale` como um array que define os tamanhos mínimo e máximo desejados. No exemplo abaixo, ajustamos a codificação de tamanho para variar de 0 pixels (para valores iguais a zero) até 1.000 pixels (para o valor máximo no domínio da escala):"
      ],
      "metadata": {
        "id": "rD842WFMOQCY"
      }
    },
    {
      "cell_type": "code",
      "source": [
        "alt.Chart(data2000).mark_point().encode(\n",
        "    alt.X('fertility:Q'),\n",
        "    alt.Y('life_expect:Q'),\n",
        "    alt.Size('pop:Q', scale=alt.Scale(range=[0,1000]))\n",
        ")"
      ],
      "metadata": {
        "id": "5C4_ly5PQhw5"
      },
      "execution_count": null,
      "outputs": []
    },
    {
      "cell_type": "markdown",
      "source": [
        "### 2.2.4 Cor e Opacidade\n",
        "\n",
        "O canal de codificação de cores especifica a cor atribuída a uma marca. O estilo de codificação varia significativamente conforme o tipo de dado: para dados nominais, é utilizado um esquema de cores qualitativo multicolorido, enquanto para dados ordinais e quantitativos, são aplicados gradientes de cores ordenados.\n",
        "\n",
        "Abaixo, utilizamos o canal `color` para codificar o campo `cluster` com um tipo de dado nominal (`N`), atribuindo uma cor distinta a cada valor de cluster. Com isso, já podemos ter uma noção do que o campo `cluster`representa."
      ],
      "metadata": {
        "id": "VXZgaNimQ1_-"
      }
    },
    {
      "cell_type": "code",
      "source": [
        "alt.Chart(data2000).mark_point().encode(\n",
        "    alt.X('fertility:Q'),\n",
        "    alt.Y('life_expect:Q'),\n",
        "    alt.Size('pop:Q', scale=alt.Scale(range=[0,1000])),\n",
        "    alt.Color('cluster:N')\n",
        ")"
      ],
      "metadata": {
        "id": "IxnmVPrxU17E"
      },
      "execution_count": null,
      "outputs": []
    },
    {
      "cell_type": "markdown",
      "source": [
        "Caso deseje formas com as cores preenchidas, podemos passar um parâmetro `filled=True` para o método `mark_point`. Fazendo isso, a forma escolhida passa a ficar totalmente preenchida com a cor, e não apenas a borda:"
      ],
      "metadata": {
        "id": "TH6XVd_VVv_L"
      }
    },
    {
      "cell_type": "code",
      "source": [
        "alt.Chart(data2000).mark_point(filled=True).encode(\n",
        "    alt.X('fertility:Q'),\n",
        "    alt.Y('life_expect:Q'),\n",
        "    alt.Size('pop:Q', scale=alt.Scale(range=[0,1000])),\n",
        "    alt.Color('cluster:N')\n",
        ")"
      ],
      "metadata": {
        "id": "EOzz94WcXepx"
      },
      "execution_count": null,
      "outputs": []
    },
    {
      "cell_type": "markdown",
      "source": [
        "Por padrão, o Altair usa um pouco de transparência para solucionar sobreposições de dados no gráfico. Como solução, podemos mudar a opacidade ajustando um valor no método `mark_*` ou usando um canal de codificação só para isso.\n",
        "\n",
        "Aqui, mostramos como atribuir um valor fixo a um canal de codificação, em vez de usar um campo de dados:"
      ],
      "metadata": {
        "id": "N8qff6T_dlal"
      }
    },
    {
      "cell_type": "code",
      "source": [
        "alt.Chart(data2000).mark_point(filled=True).encode(\n",
        "    alt.X('fertility:Q'),\n",
        "    alt.Y('life_expect:Q'),\n",
        "    alt.Size('pop:Q', scale=alt.Scale(range=[0,1000])),\n",
        "    alt.Color('cluster:N'),\n",
        "    alt.OpacityValue(0.5)\n",
        ")"
      ],
      "metadata": {
        "id": "SlfN7MSTfdD9"
      },
      "execution_count": null,
      "outputs": []
    },
    {
      "cell_type": "markdown",
      "source": [
        "### Forma\n",
        "\n",
        "O canal de codificação `shape` define a forma geométrica das marcas de `point`. Diferente dos outros canais que vimos, o canal `shape` não pode ser usado com outros tipos de marca. Ele deve ser utilizado apenas com dados nominais, pois não é possível fazer comparações de ordem ou magnitude de forma perceptível.\n",
        "\n",
        "Vamos aplicar a codificação do campo `cluster` utilizando os canais `shape` e `color`. Quando usamos múltiplos canais para o mesmo conjunto de dados, isso é chamado de *codificação redundante*. O gráfico gerado junta as informações de cor e forma em uma única legenda de símbolos:"
      ],
      "metadata": {
        "id": "0R1q5TiQgAHh"
      }
    },
    {
      "cell_type": "code",
      "source": [
        "alt.Chart(data2000).mark_point(filled=True).encode(\n",
        "    alt.X('fertility:Q'),\n",
        "    alt.Y('life_expect:Q'),\n",
        "    alt.Size('pop:Q', scale=alt.Scale(range=[0,1000])),\n",
        "    alt.Color('cluster:N'),\n",
        "    alt.OpacityValue(0.5),\n",
        "    alt.Shape('cluster:N')\n",
        ")"
      ],
      "metadata": {
        "id": "1HSHSFm1i0ax"
      },
      "execution_count": null,
      "outputs": []
    }
  ]
}