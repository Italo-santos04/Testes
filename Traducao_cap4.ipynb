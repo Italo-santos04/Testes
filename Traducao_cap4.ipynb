{
  "cells": [
    {
      "cell_type": "markdown",
      "source": [
        "### Comparando antibióticos: ajustando linhas de grade, contagem de ticks e dimensionamento\n",
        "\n",
        "Primeiramente, vamos começar com a seguinte pergunta: _Como é que a neomicina se compara a outros antibióticos, como a estreptomicina e a penicilina?_\n",
        "\n",
        "Para começar a responder a essa pergunta, podemos criar gráficos de dispersão, adicionando uma codificação do eixo y para outro antibiótico (estreptomicina) que espelha o design do nosso eixo x para neomicina."
      ],
      "metadata": {
        "id": "J-enkHJj3qaY"
      }
    },
    {
      "cell_type": "code",
      "execution_count": null,
      "metadata": {
        "colab": {
          "base_uri": "https://localhost:8080/",
          "height": 372
        },
        "id": "CjDce4pG_SXP",
        "outputId": "9459f0fb-088e-4e60-92f3-5f7992b3509d"
      },
      "outputs": [
        {
          "data": {
            "text/html": [
              "\n",
              "<div id=\"altair-viz-663da984e7c44796ab468adf97189e60\"></div>\n",
              "<script type=\"text/javascript\">\n",
              "  (function(spec, embedOpt){\n",
              "    let outputDiv = document.currentScript.previousElementSibling;\n",
              "    if (outputDiv.id !== \"altair-viz-663da984e7c44796ab468adf97189e60\") {\n",
              "      outputDiv = document.getElementById(\"altair-viz-663da984e7c44796ab468adf97189e60\");\n",
              "    }\n",
              "    const paths = {\n",
              "      \"vega\": \"https://cdn.jsdelivr.net/npm//vega@5?noext\",\n",
              "      \"vega-lib\": \"https://cdn.jsdelivr.net/npm//vega-lib?noext\",\n",
              "      \"vega-lite\": \"https://cdn.jsdelivr.net/npm//vega-lite@4.8.1?noext\",\n",
              "      \"vega-embed\": \"https://cdn.jsdelivr.net/npm//vega-embed@6?noext\",\n",
              "    };\n",
              "\n",
              "    function loadScript(lib) {\n",
              "      return new Promise(function(resolve, reject) {\n",
              "        var s = document.createElement('script');\n",
              "        s.src = paths[lib];\n",
              "        s.async = true;\n",
              "        s.onload = () => resolve(paths[lib]);\n",
              "        s.onerror = () => reject(`Error loading script: ${paths[lib]}`);\n",
              "        document.getElementsByTagName(\"head\")[0].appendChild(s);\n",
              "      });\n",
              "    }\n",
              "\n",
              "    function showError(err) {\n",
              "      outputDiv.innerHTML = `<div class=\"error\" style=\"color:red;\">${err}</div>`;\n",
              "      throw err;\n",
              "    }\n",
              "\n",
              "    function displayChart(vegaEmbed) {\n",
              "      vegaEmbed(outputDiv, spec, embedOpt)\n",
              "        .catch(err => showError(`Javascript Error: ${err.message}<br>This usually means there's a typo in your chart specification. See the javascript console for the full traceback.`));\n",
              "    }\n",
              "\n",
              "    if(typeof define === \"function\" && define.amd) {\n",
              "      requirejs.config({paths});\n",
              "      require([\"vega-embed\"], displayChart, err => showError(`Error loading script: ${err.message}`));\n",
              "    } else if (typeof vegaEmbed === \"function\") {\n",
              "      displayChart(vegaEmbed);\n",
              "    } else {\n",
              "      loadScript(\"vega\")\n",
              "        .then(() => loadScript(\"vega-lite\"))\n",
              "        .then(() => loadScript(\"vega-embed\"))\n",
              "        .catch(showError)\n",
              "        .then(() => displayChart(vegaEmbed));\n",
              "    }\n",
              "  })({\"config\": {\"view\": {\"continuousWidth\": 400, \"continuousHeight\": 300}}, \"data\": {\"url\": \"https://cdn.jsdelivr.net/npm/vega-datasets@1/data/burtin.json\"}, \"mark\": \"circle\", \"encoding\": {\"x\": {\"type\": \"quantitative\", \"field\": \"Neomycin\", \"scale\": {\"type\": \"log\"}, \"sort\": \"descending\", \"title\": \"Neomycin MIC (\\u03bcg/ml, reverse log scale)\"}, \"y\": {\"type\": \"quantitative\", \"field\": \"Streptomycin\", \"scale\": {\"type\": \"log\"}, \"sort\": \"descending\", \"title\": \"Streptomycin MIC (\\u03bcg/ml, reverse log scale)\"}}, \"$schema\": \"https://vega.github.io/schema/vega-lite/v4.8.1.json\"}, {\"mode\": \"vega-lite\"});\n",
              "</script>"
            ],
            "text/plain": [
              "alt.Chart(...)"
            ]
          },
          "execution_count": 10,
          "metadata": {},
          "output_type": "execute_result"
        }
      ],
      "source": [
        "alt.Chart(antibiotics).mark_circle().encode(\n",
        "    alt.X('Neomycin:Q',\n",
        "          sort='descending',\n",
        "          scale=alt.Scale(type='log'),\n",
        "          title='Neomycin MIC (μg/ml, reverse log scale)'),\n",
        "    alt.Y('Streptomycin:Q',\n",
        "          sort='descending',\n",
        "          scale=alt.Scale(type='log'),\n",
        "          title='Streptomycin MIC (μg/ml, reverse log scale)')\n",
        ")"
      ]
    },
    {
      "cell_type": "markdown",
      "source": [
        "_Podemos ver que a neomicina e a estreptomicina parecem estar altamente correlacionadas, uma vez que as cepas bacterianas respondem de forma semelhante a ambos os antibióticos._\n",
        "\n",
        "Agora vamos comparar com a penicilina:"
      ],
      "metadata": {
        "id": "5SPt54FT7AGg"
      }
    },
    {
      "cell_type": "code",
      "execution_count": null,
      "metadata": {
        "colab": {
          "base_uri": "https://localhost:8080/",
          "height": 372
        },
        "id": "hqc6DFgvNHAT",
        "outputId": "6713ba6b-8879-43be-e7ed-4340974b2c20"
      },
      "outputs": [
        {
          "data": {
            "text/html": [
              "\n",
              "<div id=\"altair-viz-97bb4822cd924cfe893271edc259b4d5\"></div>\n",
              "<script type=\"text/javascript\">\n",
              "  (function(spec, embedOpt){\n",
              "    let outputDiv = document.currentScript.previousElementSibling;\n",
              "    if (outputDiv.id !== \"altair-viz-97bb4822cd924cfe893271edc259b4d5\") {\n",
              "      outputDiv = document.getElementById(\"altair-viz-97bb4822cd924cfe893271edc259b4d5\");\n",
              "    }\n",
              "    const paths = {\n",
              "      \"vega\": \"https://cdn.jsdelivr.net/npm//vega@5?noext\",\n",
              "      \"vega-lib\": \"https://cdn.jsdelivr.net/npm//vega-lib?noext\",\n",
              "      \"vega-lite\": \"https://cdn.jsdelivr.net/npm//vega-lite@4.8.1?noext\",\n",
              "      \"vega-embed\": \"https://cdn.jsdelivr.net/npm//vega-embed@6?noext\",\n",
              "    };\n",
              "\n",
              "    function loadScript(lib) {\n",
              "      return new Promise(function(resolve, reject) {\n",
              "        var s = document.createElement('script');\n",
              "        s.src = paths[lib];\n",
              "        s.async = true;\n",
              "        s.onload = () => resolve(paths[lib]);\n",
              "        s.onerror = () => reject(`Error loading script: ${paths[lib]}`);\n",
              "        document.getElementsByTagName(\"head\")[0].appendChild(s);\n",
              "      });\n",
              "    }\n",
              "\n",
              "    function showError(err) {\n",
              "      outputDiv.innerHTML = `<div class=\"error\" style=\"color:red;\">${err}</div>`;\n",
              "      throw err;\n",
              "    }\n",
              "\n",
              "    function displayChart(vegaEmbed) {\n",
              "      vegaEmbed(outputDiv, spec, embedOpt)\n",
              "        .catch(err => showError(`Javascript Error: ${err.message}<br>This usually means there's a typo in your chart specification. See the javascript console for the full traceback.`));\n",
              "    }\n",
              "\n",
              "    if(typeof define === \"function\" && define.amd) {\n",
              "      requirejs.config({paths});\n",
              "      require([\"vega-embed\"], displayChart, err => showError(`Error loading script: ${err.message}`));\n",
              "    } else if (typeof vegaEmbed === \"function\") {\n",
              "      displayChart(vegaEmbed);\n",
              "    } else {\n",
              "      loadScript(\"vega\")\n",
              "        .then(() => loadScript(\"vega-lite\"))\n",
              "        .then(() => loadScript(\"vega-embed\"))\n",
              "        .catch(showError)\n",
              "        .then(() => displayChart(vegaEmbed));\n",
              "    }\n",
              "  })({\"config\": {\"view\": {\"continuousWidth\": 400, \"continuousHeight\": 300}}, \"data\": {\"url\": \"https://cdn.jsdelivr.net/npm/vega-datasets@1/data/burtin.json\"}, \"mark\": \"circle\", \"encoding\": {\"x\": {\"type\": \"quantitative\", \"field\": \"Neomycin\", \"scale\": {\"type\": \"log\"}, \"sort\": \"descending\", \"title\": \"Neomycin MIC (\\u03bcg/ml, reverse log scale)\"}, \"y\": {\"type\": \"quantitative\", \"field\": \"Penicillin\", \"scale\": {\"type\": \"log\"}, \"sort\": \"descending\", \"title\": \"Penicillin MIC (\\u03bcg/ml, reverse log scale)\"}}, \"$schema\": \"https://vega.github.io/schema/vega-lite/v4.8.1.json\"}, {\"mode\": \"vega-lite\"});\n",
              "</script>"
            ],
            "text/plain": [
              "alt.Chart(...)"
            ]
          },
          "execution_count": 11,
          "metadata": {},
          "output_type": "execute_result"
        }
      ],
      "source": [
        "alt.Chart(antibiotics).mark_circle().encode(\n",
        "    alt.X('Neomycin:Q',\n",
        "          sort='descending',\n",
        "          scale=alt.Scale(type='log'),\n",
        "          title='Neomycin MIC (μg/ml, reverse log scale)'),\n",
        "    alt.Y('Penicillin:Q',\n",
        "          sort='descending',\n",
        "          scale=alt.Scale(type='log'),\n",
        "          title='Penicillin MIC (μg/ml, reverse log scale)')\n",
        ")"
      ]
    },
    {
      "cell_type": "markdown",
      "source": [
        "_Olhando para o gráfico acima, podemos observar uma resposta mais diferenciada: algumas bactérias respondem bem à neomicina mas não à penicilina, e vice-versa!_\n",
        "\n",
        "Embora este gráfico seja útil, podemos melhorá-lo. Os eixos x e y usam as mesmas unidades, mas têm extensões diferentes (a largura do gráfico é maior que a altura) e domínios diferentes (0,001 a 100 para o eixo x e 0,001 a 1.000 para o eixo y).\n",
        "\n",
        "Desta forma, vamos ajustar os eixos: podemos adicionar definições explícitas de largura (`width`) e altura (`height`) para o gráfico e especificar domínios correspondentes utilizando a propriedade de escala `domain`."
      ],
      "metadata": {
        "id": "oTilrAbUfeYn"
      }
    },
    {
      "cell_type": "code",
      "execution_count": null,
      "metadata": {
        "colab": {
          "base_uri": "https://localhost:8080/",
          "height": 322
        },
        "id": "8HdsAzWBNVoB",
        "outputId": "2701bbff-a789-4eb0-f6bd-3f66565be916"
      },
      "outputs": [
        {
          "data": {
            "text/html": [
              "\n",
              "<div id=\"altair-viz-2cbd1be008ac42269d6ec8cad97d3026\"></div>\n",
              "<script type=\"text/javascript\">\n",
              "  (function(spec, embedOpt){\n",
              "    let outputDiv = document.currentScript.previousElementSibling;\n",
              "    if (outputDiv.id !== \"altair-viz-2cbd1be008ac42269d6ec8cad97d3026\") {\n",
              "      outputDiv = document.getElementById(\"altair-viz-2cbd1be008ac42269d6ec8cad97d3026\");\n",
              "    }\n",
              "    const paths = {\n",
              "      \"vega\": \"https://cdn.jsdelivr.net/npm//vega@5?noext\",\n",
              "      \"vega-lib\": \"https://cdn.jsdelivr.net/npm//vega-lib?noext\",\n",
              "      \"vega-lite\": \"https://cdn.jsdelivr.net/npm//vega-lite@4.8.1?noext\",\n",
              "      \"vega-embed\": \"https://cdn.jsdelivr.net/npm//vega-embed@6?noext\",\n",
              "    };\n",
              "\n",
              "    function loadScript(lib) {\n",
              "      return new Promise(function(resolve, reject) {\n",
              "        var s = document.createElement('script');\n",
              "        s.src = paths[lib];\n",
              "        s.async = true;\n",
              "        s.onload = () => resolve(paths[lib]);\n",
              "        s.onerror = () => reject(`Error loading script: ${paths[lib]}`);\n",
              "        document.getElementsByTagName(\"head\")[0].appendChild(s);\n",
              "      });\n",
              "    }\n",
              "\n",
              "    function showError(err) {\n",
              "      outputDiv.innerHTML = `<div class=\"error\" style=\"color:red;\">${err}</div>`;\n",
              "      throw err;\n",
              "    }\n",
              "\n",
              "    function displayChart(vegaEmbed) {\n",
              "      vegaEmbed(outputDiv, spec, embedOpt)\n",
              "        .catch(err => showError(`Javascript Error: ${err.message}<br>This usually means there's a typo in your chart specification. See the javascript console for the full traceback.`));\n",
              "    }\n",
              "\n",
              "    if(typeof define === \"function\" && define.amd) {\n",
              "      requirejs.config({paths});\n",
              "      require([\"vega-embed\"], displayChart, err => showError(`Error loading script: ${err.message}`));\n",
              "    } else if (typeof vegaEmbed === \"function\") {\n",
              "      displayChart(vegaEmbed);\n",
              "    } else {\n",
              "      loadScript(\"vega\")\n",
              "        .then(() => loadScript(\"vega-lite\"))\n",
              "        .then(() => loadScript(\"vega-embed\"))\n",
              "        .catch(showError)\n",
              "        .then(() => displayChart(vegaEmbed));\n",
              "    }\n",
              "  })({\"config\": {\"view\": {\"continuousWidth\": 400, \"continuousHeight\": 300}}, \"data\": {\"url\": \"https://cdn.jsdelivr.net/npm/vega-datasets@1/data/burtin.json\"}, \"mark\": \"circle\", \"encoding\": {\"x\": {\"type\": \"quantitative\", \"field\": \"Neomycin\", \"scale\": {\"domain\": [0.001, 1000], \"type\": \"log\"}, \"sort\": \"descending\", \"title\": \"Neomycin MIC (\\u03bcg/ml, reverse log scale)\"}, \"y\": {\"type\": \"quantitative\", \"field\": \"Penicillin\", \"scale\": {\"domain\": [0.001, 1000], \"type\": \"log\"}, \"sort\": \"descending\", \"title\": \"Penicillin MIC (\\u03bcg/ml, reverse log scale)\"}}, \"height\": 250, \"width\": 250, \"$schema\": \"https://vega.github.io/schema/vega-lite/v4.8.1.json\"}, {\"mode\": \"vega-lite\"});\n",
              "</script>"
            ],
            "text/plain": [
              "alt.Chart(...)"
            ]
          },
          "execution_count": 12,
          "metadata": {},
          "output_type": "execute_result"
        }
      ],
      "source": [
        "alt.Chart(antibiotics).mark_circle().encode(\n",
        "    alt.X('Neomycin:Q',\n",
        "          sort='descending',\n",
        "          scale=alt.Scale(type='log', domain=[0.001, 1000]),\n",
        "          title='Neomycin MIC (μg/ml, reverse log scale)'),\n",
        "    alt.Y('Penicillin:Q',\n",
        "          sort='descending',\n",
        "          scale=alt.Scale(type='log', domain=[0.001, 1000]),\n",
        "          title='Penicillin MIC (μg/ml, reverse log scale)')\n",
        ").properties(width=250, height=250)"
      ]
    },
    {
      "cell_type": "markdown",
      "source": [
        "_A trama resultante fica mais equilibrada e menos sujeita a erros de interpretação sutis!_\n",
        "\n",
        "No entanto, as linhas de grade agora são bastante densas. Se quisermos remover completamente as linhas de grade, podemos adicionar `grid=False` ao atributo do eixo (`axis`). Mas e se, em vez disso, quisermos reduzir o número de marcas de seleção, por exemplo, incluindo apenas linhas de grade para cada ordem de grandeza?\n",
        "\n",
        "Para alterar o número de ticks, podemos especificar uma propriedade `tickCount` de destino para um objeto `Axis`. A propriedade `tickCount` é tratada como uma _sugestão_ para o Altair, a ser considerada juntamente com outros aspectos, como a utilização de intervalos agradáveis e de fácil utilização. Podemos não obter _exatamente_ o número de marcas de escala que solicitamos, mas devemos obter algo próximo."
      ],
      "metadata": {
        "id": "BGIocyLGjaCi"
      }
    },
    {
      "cell_type": "code",
      "execution_count": null,
      "metadata": {
        "colab": {
          "base_uri": "https://localhost:8080/",
          "height": 322
        },
        "id": "v4Awwd_kN_bf",
        "outputId": "b047adfe-6491-44f4-d84b-8e22836ad923"
      },
      "outputs": [
        {
          "data": {
            "text/html": [
              "\n",
              "<div id=\"altair-viz-bd5d6ea0e78e4220814bdf81e7d7dec3\"></div>\n",
              "<script type=\"text/javascript\">\n",
              "  (function(spec, embedOpt){\n",
              "    let outputDiv = document.currentScript.previousElementSibling;\n",
              "    if (outputDiv.id !== \"altair-viz-bd5d6ea0e78e4220814bdf81e7d7dec3\") {\n",
              "      outputDiv = document.getElementById(\"altair-viz-bd5d6ea0e78e4220814bdf81e7d7dec3\");\n",
              "    }\n",
              "    const paths = {\n",
              "      \"vega\": \"https://cdn.jsdelivr.net/npm//vega@5?noext\",\n",
              "      \"vega-lib\": \"https://cdn.jsdelivr.net/npm//vega-lib?noext\",\n",
              "      \"vega-lite\": \"https://cdn.jsdelivr.net/npm//vega-lite@4.8.1?noext\",\n",
              "      \"vega-embed\": \"https://cdn.jsdelivr.net/npm//vega-embed@6?noext\",\n",
              "    };\n",
              "\n",
              "    function loadScript(lib) {\n",
              "      return new Promise(function(resolve, reject) {\n",
              "        var s = document.createElement('script');\n",
              "        s.src = paths[lib];\n",
              "        s.async = true;\n",
              "        s.onload = () => resolve(paths[lib]);\n",
              "        s.onerror = () => reject(`Error loading script: ${paths[lib]}`);\n",
              "        document.getElementsByTagName(\"head\")[0].appendChild(s);\n",
              "      });\n",
              "    }\n",
              "\n",
              "    function showError(err) {\n",
              "      outputDiv.innerHTML = `<div class=\"error\" style=\"color:red;\">${err}</div>`;\n",
              "      throw err;\n",
              "    }\n",
              "\n",
              "    function displayChart(vegaEmbed) {\n",
              "      vegaEmbed(outputDiv, spec, embedOpt)\n",
              "        .catch(err => showError(`Javascript Error: ${err.message}<br>This usually means there's a typo in your chart specification. See the javascript console for the full traceback.`));\n",
              "    }\n",
              "\n",
              "    if(typeof define === \"function\" && define.amd) {\n",
              "      requirejs.config({paths});\n",
              "      require([\"vega-embed\"], displayChart, err => showError(`Error loading script: ${err.message}`));\n",
              "    } else if (typeof vegaEmbed === \"function\") {\n",
              "      displayChart(vegaEmbed);\n",
              "    } else {\n",
              "      loadScript(\"vega\")\n",
              "        .then(() => loadScript(\"vega-lite\"))\n",
              "        .then(() => loadScript(\"vega-embed\"))\n",
              "        .catch(showError)\n",
              "        .then(() => displayChart(vegaEmbed));\n",
              "    }\n",
              "  })({\"config\": {\"view\": {\"continuousWidth\": 400, \"continuousHeight\": 300}}, \"data\": {\"url\": \"https://cdn.jsdelivr.net/npm/vega-datasets@1/data/burtin.json\"}, \"mark\": \"circle\", \"encoding\": {\"x\": {\"type\": \"quantitative\", \"axis\": {\"tickCount\": 5}, \"field\": \"Neomycin\", \"scale\": {\"domain\": [0.001, 1000], \"type\": \"log\"}, \"sort\": \"descending\", \"title\": \"Neomycin MIC (\\u03bcg/ml, reverse log scale)\"}, \"y\": {\"type\": \"quantitative\", \"axis\": {\"tickCount\": 5}, \"field\": \"Penicillin\", \"scale\": {\"domain\": [0.001, 1000], \"type\": \"log\"}, \"sort\": \"descending\", \"title\": \"Penicillin MIC (\\u03bcg/ml, reverse log scale)\"}}, \"height\": 250, \"width\": 250, \"$schema\": \"https://vega.github.io/schema/vega-lite/v4.8.1.json\"}, {\"mode\": \"vega-lite\"});\n",
              "</script>"
            ],
            "text/plain": [
              "alt.Chart(...)"
            ]
          },
          "execution_count": 13,
          "metadata": {},
          "output_type": "execute_result"
        }
      ],
      "source": [
        "alt.Chart(antibiotics).mark_circle().encode(\n",
        "    alt.X('Neomycin:Q',\n",
        "          sort='descending',\n",
        "          scale=alt.Scale(type='log', domain=[0.001, 1000]),\n",
        "          axis=alt.Axis(tickCount=5),\n",
        "          title='Neomycin MIC (μg/ml, reverse log scale)'),\n",
        "    alt.Y('Penicillin:Q',\n",
        "          sort='descending',\n",
        "          scale=alt.Scale(type='log', domain=[0.001, 1000]),\n",
        "          axis=alt.Axis(tickCount=5),\n",
        "          title='Penicillin MIC (μg/ml, reverse log scale)')\n",
        ").properties(width=250, height=250)"
      ]
    },
    {
      "cell_type": "markdown",
      "source": [
        "Ao definir o `tickCount` para 5, obtemos o efeito pretendido.\n",
        "\n",
        "Os pontos do nosso gráfico de dispersão parecem um pouco pequenos. Vamos alterar o tamanho definindo a propriedade `size` dentro da marca circular (`mark_circle`). Este valor de tamanho é a área da marca em pixéis."
      ],
      "metadata": {
        "id": "qaLnknQHnnwW"
      }
    },
    {
      "cell_type": "code",
      "execution_count": null,
      "metadata": {
        "colab": {
          "base_uri": "https://localhost:8080/",
          "height": 322
        },
        "id": "aERDKc0KOhco",
        "outputId": "e3257bc3-40aa-4539-edea-a923c0329675"
      },
      "outputs": [
        {
          "data": {
            "text/html": [
              "\n",
              "<div id=\"altair-viz-d14b8b7e58924fca92933ade03f30edb\"></div>\n",
              "<script type=\"text/javascript\">\n",
              "  (function(spec, embedOpt){\n",
              "    let outputDiv = document.currentScript.previousElementSibling;\n",
              "    if (outputDiv.id !== \"altair-viz-d14b8b7e58924fca92933ade03f30edb\") {\n",
              "      outputDiv = document.getElementById(\"altair-viz-d14b8b7e58924fca92933ade03f30edb\");\n",
              "    }\n",
              "    const paths = {\n",
              "      \"vega\": \"https://cdn.jsdelivr.net/npm//vega@5?noext\",\n",
              "      \"vega-lib\": \"https://cdn.jsdelivr.net/npm//vega-lib?noext\",\n",
              "      \"vega-lite\": \"https://cdn.jsdelivr.net/npm//vega-lite@4.8.1?noext\",\n",
              "      \"vega-embed\": \"https://cdn.jsdelivr.net/npm//vega-embed@6?noext\",\n",
              "    };\n",
              "\n",
              "    function loadScript(lib) {\n",
              "      return new Promise(function(resolve, reject) {\n",
              "        var s = document.createElement('script');\n",
              "        s.src = paths[lib];\n",
              "        s.async = true;\n",
              "        s.onload = () => resolve(paths[lib]);\n",
              "        s.onerror = () => reject(`Error loading script: ${paths[lib]}`);\n",
              "        document.getElementsByTagName(\"head\")[0].appendChild(s);\n",
              "      });\n",
              "    }\n",
              "\n",
              "    function showError(err) {\n",
              "      outputDiv.innerHTML = `<div class=\"error\" style=\"color:red;\">${err}</div>`;\n",
              "      throw err;\n",
              "    }\n",
              "\n",
              "    function displayChart(vegaEmbed) {\n",
              "      vegaEmbed(outputDiv, spec, embedOpt)\n",
              "        .catch(err => showError(`Javascript Error: ${err.message}<br>This usually means there's a typo in your chart specification. See the javascript console for the full traceback.`));\n",
              "    }\n",
              "\n",
              "    if(typeof define === \"function\" && define.amd) {\n",
              "      requirejs.config({paths});\n",
              "      require([\"vega-embed\"], displayChart, err => showError(`Error loading script: ${err.message}`));\n",
              "    } else if (typeof vegaEmbed === \"function\") {\n",
              "      displayChart(vegaEmbed);\n",
              "    } else {\n",
              "      loadScript(\"vega\")\n",
              "        .then(() => loadScript(\"vega-lite\"))\n",
              "        .then(() => loadScript(\"vega-embed\"))\n",
              "        .catch(showError)\n",
              "        .then(() => displayChart(vegaEmbed));\n",
              "    }\n",
              "  })({\"config\": {\"view\": {\"continuousWidth\": 400, \"continuousHeight\": 300}}, \"data\": {\"url\": \"https://cdn.jsdelivr.net/npm/vega-datasets@1/data/burtin.json\"}, \"mark\": {\"type\": \"circle\", \"size\": 80}, \"encoding\": {\"x\": {\"type\": \"quantitative\", \"axis\": {\"tickCount\": 5}, \"field\": \"Neomycin\", \"scale\": {\"domain\": [0.001, 1000], \"type\": \"log\"}, \"sort\": \"descending\", \"title\": \"Neomycin MIC (\\u03bcg/ml, reverse log scale)\"}, \"y\": {\"type\": \"quantitative\", \"axis\": {\"tickCount\": 5}, \"field\": \"Penicillin\", \"scale\": {\"domain\": [0.001, 1000], \"type\": \"log\"}, \"sort\": \"descending\", \"title\": \"Penicillin MIC (\\u03bcg/ml, reverse log scale)\"}}, \"height\": 250, \"width\": 250, \"$schema\": \"https://vega.github.io/schema/vega-lite/v4.8.1.json\"}, {\"mode\": \"vega-lite\"});\n",
              "</script>"
            ],
            "text/plain": [
              "alt.Chart(...)"
            ]
          },
          "execution_count": 14,
          "metadata": {},
          "output_type": "execute_result"
        }
      ],
      "source": [
        "alt.Chart(antibiotics).mark_circle(size=80).encode(\n",
        "    alt.X('Neomycin:Q',\n",
        "          sort='descending',\n",
        "          scale=alt.Scale(type='log', domain=[0.001, 1000]),\n",
        "          axis=alt.Axis(tickCount=5),\n",
        "          title='Neomycin MIC (μg/ml, reverse log scale)'),\n",
        "    alt.Y('Penicillin:Q',\n",
        "          sort='descending',\n",
        "          scale=alt.Scale(type='log', domain=[0.001, 1000]),\n",
        "          axis=alt.Axis(tickCount=5),\n",
        "          title='Penicillin MIC (μg/ml, reverse log scale)'),\n",
        ").properties(width=250, height=250)"
      ]
    },
    {
      "cell_type": "markdown",
      "source": [
        "Neste caso, definimos a área da marca circular para 80 píxeis. _Ajuste o valor como achar melhor!_"
      ],
      "metadata": {
        "id": "R9Oi8EUdpLaw"
      }
    },
    {
      "cell_type": "markdown",
      "metadata": {
        "id": "AJ8dwejXO9cc"
      },
      "source": [
        "## Configuring Color Legends"
      ]
    },
    {
      "cell_type": "markdown",
      "metadata": {
        "id": "obwIbbZa_KNd"
      },
      "source": [
        "### Color by Gram Staining\n",
        "\n",
        "_Above we saw that neomycin is more effective for some bacteria, while penicillin is more effective for others. But how can we tell which antibiotic to use if we don't know the specific species of bacteria? Gram staining serves as a diagnostic for discriminating classes of bacteria!_\n",
        "\n",
        "Let's encode `Gram_Staining` on the `color` channel as a nominal data type:"
      ]
    },
    {
      "cell_type": "code",
      "execution_count": null,
      "metadata": {
        "colab": {
          "base_uri": "https://localhost:8080/",
          "height": 322
        },
        "id": "pkSc_PXyAuGg",
        "outputId": "01446cfb-f968-4dfb-c695-4372f55bd5f1"
      },
      "outputs": [
        {
          "data": {
            "text/html": [
              "\n",
              "<div id=\"altair-viz-e6511d5da0784519aa6f3f66334045ff\"></div>\n",
              "<script type=\"text/javascript\">\n",
              "  (function(spec, embedOpt){\n",
              "    let outputDiv = document.currentScript.previousElementSibling;\n",
              "    if (outputDiv.id !== \"altair-viz-e6511d5da0784519aa6f3f66334045ff\") {\n",
              "      outputDiv = document.getElementById(\"altair-viz-e6511d5da0784519aa6f3f66334045ff\");\n",
              "    }\n",
              "    const paths = {\n",
              "      \"vega\": \"https://cdn.jsdelivr.net/npm//vega@5?noext\",\n",
              "      \"vega-lib\": \"https://cdn.jsdelivr.net/npm//vega-lib?noext\",\n",
              "      \"vega-lite\": \"https://cdn.jsdelivr.net/npm//vega-lite@4.8.1?noext\",\n",
              "      \"vega-embed\": \"https://cdn.jsdelivr.net/npm//vega-embed@6?noext\",\n",
              "    };\n",
              "\n",
              "    function loadScript(lib) {\n",
              "      return new Promise(function(resolve, reject) {\n",
              "        var s = document.createElement('script');\n",
              "        s.src = paths[lib];\n",
              "        s.async = true;\n",
              "        s.onload = () => resolve(paths[lib]);\n",
              "        s.onerror = () => reject(`Error loading script: ${paths[lib]}`);\n",
              "        document.getElementsByTagName(\"head\")[0].appendChild(s);\n",
              "      });\n",
              "    }\n",
              "\n",
              "    function showError(err) {\n",
              "      outputDiv.innerHTML = `<div class=\"error\" style=\"color:red;\">${err}</div>`;\n",
              "      throw err;\n",
              "    }\n",
              "\n",
              "    function displayChart(vegaEmbed) {\n",
              "      vegaEmbed(outputDiv, spec, embedOpt)\n",
              "        .catch(err => showError(`Javascript Error: ${err.message}<br>This usually means there's a typo in your chart specification. See the javascript console for the full traceback.`));\n",
              "    }\n",
              "\n",
              "    if(typeof define === \"function\" && define.amd) {\n",
              "      requirejs.config({paths});\n",
              "      require([\"vega-embed\"], displayChart, err => showError(`Error loading script: ${err.message}`));\n",
              "    } else if (typeof vegaEmbed === \"function\") {\n",
              "      displayChart(vegaEmbed);\n",
              "    } else {\n",
              "      loadScript(\"vega\")\n",
              "        .then(() => loadScript(\"vega-lite\"))\n",
              "        .then(() => loadScript(\"vega-embed\"))\n",
              "        .catch(showError)\n",
              "        .then(() => displayChart(vegaEmbed));\n",
              "    }\n",
              "  })({\"config\": {\"view\": {\"continuousWidth\": 400, \"continuousHeight\": 300}}, \"data\": {\"url\": \"https://cdn.jsdelivr.net/npm/vega-datasets@1/data/burtin.json\"}, \"mark\": {\"type\": \"circle\", \"size\": 80}, \"encoding\": {\"color\": {\"type\": \"nominal\", \"field\": \"Gram_Staining\"}, \"x\": {\"type\": \"quantitative\", \"axis\": {\"tickCount\": 5}, \"field\": \"Neomycin\", \"scale\": {\"domain\": [0.001, 1000], \"type\": \"log\"}, \"sort\": \"descending\", \"title\": \"Neomycin MIC (\\u03bcg/ml, reverse log scale)\"}, \"y\": {\"type\": \"quantitative\", \"axis\": {\"tickCount\": 5}, \"field\": \"Penicillin\", \"scale\": {\"domain\": [0.001, 1000], \"type\": \"log\"}, \"sort\": \"descending\", \"title\": \"Penicillin MIC (\\u03bcg/ml, reverse log scale)\"}}, \"height\": 250, \"width\": 250, \"$schema\": \"https://vega.github.io/schema/vega-lite/v4.8.1.json\"}, {\"mode\": \"vega-lite\"});\n",
              "</script>"
            ],
            "text/plain": [
              "alt.Chart(...)"
            ]
          },
          "execution_count": 15,
          "metadata": {},
          "output_type": "execute_result"
        }
      ],
      "source": [
        "alt.Chart(antibiotics).mark_circle(size=80).encode(\n",
        "    alt.X('Neomycin:Q',\n",
        "          sort='descending',\n",
        "          scale=alt.Scale(type='log', domain=[0.001, 1000]),\n",
        "          axis=alt.Axis(tickCount=5),\n",
        "          title='Neomycin MIC (μg/ml, reverse log scale)'),\n",
        "    alt.Y('Penicillin:Q',\n",
        "          sort='descending',\n",
        "          scale=alt.Scale(type='log', domain=[0.001, 1000]),\n",
        "          axis=alt.Axis(tickCount=5),\n",
        "          title='Penicillin MIC (μg/ml, reverse log scale)'),\n",
        "    alt.Color('Gram_Staining:N')\n",
        ").properties(width=250, height=250)"
      ]
    },
    {
      "cell_type": "markdown",
      "metadata": {
        "id": "a1Ec7fCUBQJn"
      },
      "source": [
        "_We can see that Gram-positive bacteria seem most susceptible to penicillin, whereas neomycin is more effective for Gram-negative bacteria!_\n",
        "\n",
        "The color scheme above was automatically chosen to provide perceptually-distinguishable colors for nominal (equal or not equal) comparisons. However, we might wish to customize the colors used. In this case, Gram staining results in [distinctive physical colorings: pink for Gram-negative, purple for Gram-positive](https://en.wikipedia.org/wiki/Gram_stain#/media/File:Gram_stain_01.jpg).\n",
        "\n",
        "Let's use those colors by specifying an explicit scale mapping from the data `domain` to the color `range`:"
      ]
    },
    {
      "cell_type": "code",
      "execution_count": null,
      "metadata": {
        "colab": {
          "base_uri": "https://localhost:8080/",
          "height": 322
        },
        "id": "XA4UUWriCEox",
        "outputId": "f2ada6d0-d969-4927-a268-6f842c1b65ad"
      },
      "outputs": [
        {
          "data": {
            "text/html": [
              "\n",
              "<div id=\"altair-viz-b9b5ab500e594bef921b97af38ab46fe\"></div>\n",
              "<script type=\"text/javascript\">\n",
              "  (function(spec, embedOpt){\n",
              "    let outputDiv = document.currentScript.previousElementSibling;\n",
              "    if (outputDiv.id !== \"altair-viz-b9b5ab500e594bef921b97af38ab46fe\") {\n",
              "      outputDiv = document.getElementById(\"altair-viz-b9b5ab500e594bef921b97af38ab46fe\");\n",
              "    }\n",
              "    const paths = {\n",
              "      \"vega\": \"https://cdn.jsdelivr.net/npm//vega@5?noext\",\n",
              "      \"vega-lib\": \"https://cdn.jsdelivr.net/npm//vega-lib?noext\",\n",
              "      \"vega-lite\": \"https://cdn.jsdelivr.net/npm//vega-lite@4.8.1?noext\",\n",
              "      \"vega-embed\": \"https://cdn.jsdelivr.net/npm//vega-embed@6?noext\",\n",
              "    };\n",
              "\n",
              "    function loadScript(lib) {\n",
              "      return new Promise(function(resolve, reject) {\n",
              "        var s = document.createElement('script');\n",
              "        s.src = paths[lib];\n",
              "        s.async = true;\n",
              "        s.onload = () => resolve(paths[lib]);\n",
              "        s.onerror = () => reject(`Error loading script: ${paths[lib]}`);\n",
              "        document.getElementsByTagName(\"head\")[0].appendChild(s);\n",
              "      });\n",
              "    }\n",
              "\n",
              "    function showError(err) {\n",
              "      outputDiv.innerHTML = `<div class=\"error\" style=\"color:red;\">${err}</div>`;\n",
              "      throw err;\n",
              "    }\n",
              "\n",
              "    function displayChart(vegaEmbed) {\n",
              "      vegaEmbed(outputDiv, spec, embedOpt)\n",
              "        .catch(err => showError(`Javascript Error: ${err.message}<br>This usually means there's a typo in your chart specification. See the javascript console for the full traceback.`));\n",
              "    }\n",
              "\n",
              "    if(typeof define === \"function\" && define.amd) {\n",
              "      requirejs.config({paths});\n",
              "      require([\"vega-embed\"], displayChart, err => showError(`Error loading script: ${err.message}`));\n",
              "    } else if (typeof vegaEmbed === \"function\") {\n",
              "      displayChart(vegaEmbed);\n",
              "    } else {\n",
              "      loadScript(\"vega\")\n",
              "        .then(() => loadScript(\"vega-lite\"))\n",
              "        .then(() => loadScript(\"vega-embed\"))\n",
              "        .catch(showError)\n",
              "        .then(() => displayChart(vegaEmbed));\n",
              "    }\n",
              "  })({\"config\": {\"view\": {\"continuousWidth\": 400, \"continuousHeight\": 300}}, \"data\": {\"url\": \"https://cdn.jsdelivr.net/npm/vega-datasets@1/data/burtin.json\"}, \"mark\": {\"type\": \"circle\", \"size\": 80}, \"encoding\": {\"color\": {\"type\": \"nominal\", \"field\": \"Gram_Staining\", \"scale\": {\"domain\": [\"negative\", \"positive\"], \"range\": [\"hotpink\", \"purple\"]}}, \"x\": {\"type\": \"quantitative\", \"axis\": {\"tickCount\": 5}, \"field\": \"Neomycin\", \"scale\": {\"domain\": [0.001, 1000], \"type\": \"log\"}, \"sort\": \"descending\", \"title\": \"Neomycin MIC (\\u03bcg/ml, reverse log scale)\"}, \"y\": {\"type\": \"quantitative\", \"axis\": {\"tickCount\": 5}, \"field\": \"Penicillin\", \"scale\": {\"domain\": [0.001, 1000], \"type\": \"log\"}, \"sort\": \"descending\", \"title\": \"Penicillin MIC (\\u03bcg/ml, reverse log scale)\"}}, \"height\": 250, \"width\": 250, \"$schema\": \"https://vega.github.io/schema/vega-lite/v4.8.1.json\"}, {\"mode\": \"vega-lite\"});\n",
              "</script>"
            ],
            "text/plain": [
              "alt.Chart(...)"
            ]
          },
          "execution_count": 16,
          "metadata": {},
          "output_type": "execute_result"
        }
      ],
      "source": [
        "alt.Chart(antibiotics).mark_circle(size=80).encode(\n",
        "    alt.X('Neomycin:Q',\n",
        "          sort='descending',\n",
        "          scale=alt.Scale(type='log', domain=[0.001, 1000]),\n",
        "          axis=alt.Axis(tickCount=5),\n",
        "          title='Neomycin MIC (μg/ml, reverse log scale)'),\n",
        "    alt.Y('Penicillin:Q',\n",
        "          sort='descending',\n",
        "          scale=alt.Scale(type='log', domain=[0.001, 1000]),\n",
        "          axis=alt.Axis(tickCount=5),\n",
        "          title='Penicillin MIC (μg/ml, reverse log scale)'),\n",
        "    alt.Color('Gram_Staining:N',\n",
        "          scale=alt.Scale(domain=['negative', 'positive'], range=['hotpink', 'purple'])\n",
        "    )\n",
        ").properties(width=250, height=250)"
      ]
    },
    {
      "cell_type": "markdown",
      "metadata": {
        "id": "cfgvdp8cBHmZ"
      },
      "source": [
        "By default legends are placed on the right side of the chart. Similar to axes, we can change the legend orientation using the `orient` parameter:"
      ]
    },
    {
      "cell_type": "code",
      "execution_count": null,
      "metadata": {
        "colab": {
          "base_uri": "https://localhost:8080/",
          "height": 322
        },
        "id": "wlb7-9SNBUdZ",
        "outputId": "32b3e78c-7860-4ef4-850f-9af24cb58edd"
      },
      "outputs": [
        {
          "data": {
            "text/html": [
              "\n",
              "<div id=\"altair-viz-926618f4eb8a46119cafb645829470a5\"></div>\n",
              "<script type=\"text/javascript\">\n",
              "  (function(spec, embedOpt){\n",
              "    let outputDiv = document.currentScript.previousElementSibling;\n",
              "    if (outputDiv.id !== \"altair-viz-926618f4eb8a46119cafb645829470a5\") {\n",
              "      outputDiv = document.getElementById(\"altair-viz-926618f4eb8a46119cafb645829470a5\");\n",
              "    }\n",
              "    const paths = {\n",
              "      \"vega\": \"https://cdn.jsdelivr.net/npm//vega@5?noext\",\n",
              "      \"vega-lib\": \"https://cdn.jsdelivr.net/npm//vega-lib?noext\",\n",
              "      \"vega-lite\": \"https://cdn.jsdelivr.net/npm//vega-lite@4.8.1?noext\",\n",
              "      \"vega-embed\": \"https://cdn.jsdelivr.net/npm//vega-embed@6?noext\",\n",
              "    };\n",
              "\n",
              "    function loadScript(lib) {\n",
              "      return new Promise(function(resolve, reject) {\n",
              "        var s = document.createElement('script');\n",
              "        s.src = paths[lib];\n",
              "        s.async = true;\n",
              "        s.onload = () => resolve(paths[lib]);\n",
              "        s.onerror = () => reject(`Error loading script: ${paths[lib]}`);\n",
              "        document.getElementsByTagName(\"head\")[0].appendChild(s);\n",
              "      });\n",
              "    }\n",
              "\n",
              "    function showError(err) {\n",
              "      outputDiv.innerHTML = `<div class=\"error\" style=\"color:red;\">${err}</div>`;\n",
              "      throw err;\n",
              "    }\n",
              "\n",
              "    function displayChart(vegaEmbed) {\n",
              "      vegaEmbed(outputDiv, spec, embedOpt)\n",
              "        .catch(err => showError(`Javascript Error: ${err.message}<br>This usually means there's a typo in your chart specification. See the javascript console for the full traceback.`));\n",
              "    }\n",
              "\n",
              "    if(typeof define === \"function\" && define.amd) {\n",
              "      requirejs.config({paths});\n",
              "      require([\"vega-embed\"], displayChart, err => showError(`Error loading script: ${err.message}`));\n",
              "    } else if (typeof vegaEmbed === \"function\") {\n",
              "      displayChart(vegaEmbed);\n",
              "    } else {\n",
              "      loadScript(\"vega\")\n",
              "        .then(() => loadScript(\"vega-lite\"))\n",
              "        .then(() => loadScript(\"vega-embed\"))\n",
              "        .catch(showError)\n",
              "        .then(() => displayChart(vegaEmbed));\n",
              "    }\n",
              "  })({\"config\": {\"view\": {\"continuousWidth\": 400, \"continuousHeight\": 300}}, \"data\": {\"url\": \"https://cdn.jsdelivr.net/npm/vega-datasets@1/data/burtin.json\"}, \"mark\": {\"type\": \"circle\", \"size\": 80}, \"encoding\": {\"color\": {\"type\": \"nominal\", \"field\": \"Gram_Staining\", \"legend\": {\"orient\": \"left\"}, \"scale\": {\"domain\": [\"negative\", \"positive\"], \"range\": [\"hotpink\", \"purple\"]}}, \"x\": {\"type\": \"quantitative\", \"axis\": {\"tickCount\": 5}, \"field\": \"Neomycin\", \"scale\": {\"domain\": [0.001, 1000], \"type\": \"log\"}, \"sort\": \"descending\", \"title\": \"Neomycin MIC (\\u03bcg/ml, reverse log scale)\"}, \"y\": {\"type\": \"quantitative\", \"axis\": {\"tickCount\": 5}, \"field\": \"Penicillin\", \"scale\": {\"domain\": [0.001, 1000], \"type\": \"log\"}, \"sort\": \"descending\", \"title\": \"Penicillin MIC (\\u03bcg/ml, reverse log scale)\"}}, \"height\": 250, \"width\": 250, \"$schema\": \"https://vega.github.io/schema/vega-lite/v4.8.1.json\"}, {\"mode\": \"vega-lite\"});\n",
              "</script>"
            ],
            "text/plain": [
              "alt.Chart(...)"
            ]
          },
          "execution_count": 17,
          "metadata": {},
          "output_type": "execute_result"
        }
      ],
      "source": [
        "alt.Chart(antibiotics).mark_circle(size=80).encode(\n",
        "    alt.X('Neomycin:Q',\n",
        "          sort='descending',\n",
        "          scale=alt.Scale(type='log', domain=[0.001, 1000]),\n",
        "          axis=alt.Axis(tickCount=5),\n",
        "          title='Neomycin MIC (μg/ml, reverse log scale)'),\n",
        "    alt.Y('Penicillin:Q',\n",
        "          sort='descending',\n",
        "          scale=alt.Scale(type='log', domain=[0.001, 1000]),\n",
        "          axis=alt.Axis(tickCount=5),\n",
        "          title='Penicillin MIC (μg/ml, reverse log scale)'),\n",
        "    alt.Color('Gram_Staining:N',\n",
        "          scale=alt.Scale(domain=['negative', 'positive'], range=['hotpink', 'purple']),\n",
        "          legend=alt.Legend(orient='left')\n",
        "    )\n",
        ").properties(width=250, height=250)"
      ]
    },
    {
      "cell_type": "markdown",
      "metadata": {
        "id": "nwoOrGb6BtrF"
      },
      "source": [
        "We can also remove a legend entirely by specifying `legend=None`:"
      ]
    },
    {
      "cell_type": "code",
      "execution_count": null,
      "metadata": {
        "colab": {
          "base_uri": "https://localhost:8080/",
          "height": 322
        },
        "id": "YEcweSOABxss",
        "outputId": "a6e539ce-1b2c-4b6f-c504-edbeb659b5d4"
      },
      "outputs": [
        {
          "data": {
            "text/html": [
              "\n",
              "<div id=\"altair-viz-669b9e11bcc44cb6b7594d2818573cb9\"></div>\n",
              "<script type=\"text/javascript\">\n",
              "  (function(spec, embedOpt){\n",
              "    let outputDiv = document.currentScript.previousElementSibling;\n",
              "    if (outputDiv.id !== \"altair-viz-669b9e11bcc44cb6b7594d2818573cb9\") {\n",
              "      outputDiv = document.getElementById(\"altair-viz-669b9e11bcc44cb6b7594d2818573cb9\");\n",
              "    }\n",
              "    const paths = {\n",
              "      \"vega\": \"https://cdn.jsdelivr.net/npm//vega@5?noext\",\n",
              "      \"vega-lib\": \"https://cdn.jsdelivr.net/npm//vega-lib?noext\",\n",
              "      \"vega-lite\": \"https://cdn.jsdelivr.net/npm//vega-lite@4.8.1?noext\",\n",
              "      \"vega-embed\": \"https://cdn.jsdelivr.net/npm//vega-embed@6?noext\",\n",
              "    };\n",
              "\n",
              "    function loadScript(lib) {\n",
              "      return new Promise(function(resolve, reject) {\n",
              "        var s = document.createElement('script');\n",
              "        s.src = paths[lib];\n",
              "        s.async = true;\n",
              "        s.onload = () => resolve(paths[lib]);\n",
              "        s.onerror = () => reject(`Error loading script: ${paths[lib]}`);\n",
              "        document.getElementsByTagName(\"head\")[0].appendChild(s);\n",
              "      });\n",
              "    }\n",
              "\n",
              "    function showError(err) {\n",
              "      outputDiv.innerHTML = `<div class=\"error\" style=\"color:red;\">${err}</div>`;\n",
              "      throw err;\n",
              "    }\n",
              "\n",
              "    function displayChart(vegaEmbed) {\n",
              "      vegaEmbed(outputDiv, spec, embedOpt)\n",
              "        .catch(err => showError(`Javascript Error: ${err.message}<br>This usually means there's a typo in your chart specification. See the javascript console for the full traceback.`));\n",
              "    }\n",
              "\n",
              "    if(typeof define === \"function\" && define.amd) {\n",
              "      requirejs.config({paths});\n",
              "      require([\"vega-embed\"], displayChart, err => showError(`Error loading script: ${err.message}`));\n",
              "    } else if (typeof vegaEmbed === \"function\") {\n",
              "      displayChart(vegaEmbed);\n",
              "    } else {\n",
              "      loadScript(\"vega\")\n",
              "        .then(() => loadScript(\"vega-lite\"))\n",
              "        .then(() => loadScript(\"vega-embed\"))\n",
              "        .catch(showError)\n",
              "        .then(() => displayChart(vegaEmbed));\n",
              "    }\n",
              "  })({\"config\": {\"view\": {\"continuousWidth\": 400, \"continuousHeight\": 300}}, \"data\": {\"url\": \"https://cdn.jsdelivr.net/npm/vega-datasets@1/data/burtin.json\"}, \"mark\": {\"type\": \"circle\", \"size\": 80}, \"encoding\": {\"color\": {\"type\": \"nominal\", \"field\": \"Gram_Staining\", \"legend\": null, \"scale\": {\"domain\": [\"negative\", \"positive\"], \"range\": [\"hotpink\", \"purple\"]}}, \"x\": {\"type\": \"quantitative\", \"axis\": {\"tickCount\": 5}, \"field\": \"Neomycin\", \"scale\": {\"domain\": [0.001, 1000], \"type\": \"log\"}, \"sort\": \"descending\", \"title\": \"Neomycin MIC (\\u03bcg/ml, reverse log scale)\"}, \"y\": {\"type\": \"quantitative\", \"axis\": {\"tickCount\": 5}, \"field\": \"Penicillin\", \"scale\": {\"domain\": [0.001, 1000], \"type\": \"log\"}, \"sort\": \"descending\", \"title\": \"Penicillin MIC (\\u03bcg/ml, reverse log scale)\"}}, \"height\": 250, \"width\": 250, \"$schema\": \"https://vega.github.io/schema/vega-lite/v4.8.1.json\"}, {\"mode\": \"vega-lite\"});\n",
              "</script>"
            ],
            "text/plain": [
              "alt.Chart(...)"
            ]
          },
          "execution_count": 18,
          "metadata": {},
          "output_type": "execute_result"
        }
      ],
      "source": [
        "alt.Chart(antibiotics).mark_circle(size=80).encode(\n",
        "    alt.X('Neomycin:Q',\n",
        "          sort='descending',\n",
        "          scale=alt.Scale(type='log', domain=[0.001, 1000]),\n",
        "          axis=alt.Axis(tickCount=5),\n",
        "          title='Neomycin MIC (μg/ml, reverse log scale)'),\n",
        "    alt.Y('Penicillin:Q',\n",
        "          sort='descending',\n",
        "          scale=alt.Scale(type='log', domain=[0.001, 1000]),\n",
        "          axis=alt.Axis(tickCount=5),\n",
        "          title='Penicillin MIC (μg/ml, reverse log scale)'),\n",
        "    alt.Color('Gram_Staining:N',\n",
        "          scale=alt.Scale(domain=['negative', 'positive'], range=['hotpink', 'purple']),\n",
        "          legend=None\n",
        "    )\n",
        ").properties(width=250, height=250)"
      ]
    }
  ],
  "metadata": {
    "kernelspec": {
      "display_name": "Python 3 (ipykernel)",
      "language": "python",
      "name": "python3"
    },
    "language_info": {
      "codemirror_mode": {
        "name": "ipython",
        "version": 3
      },
      "file_extension": ".py",
      "mimetype": "text/x-python",
      "name": "python",
      "nbconvert_exporter": "python",
      "pygments_lexer": "ipython3",
      "version": "3.12.2"
    },
    "colab": {
      "provenance": []
    }
  },
  "nbformat": 4,
  "nbformat_minor": 0
}