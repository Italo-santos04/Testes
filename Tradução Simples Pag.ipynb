{
  "nbformat": 4,
  "nbformat_minor": 0,
  "metadata": {
    "colab": {
      "provenance": []
    },
    "kernelspec": {
      "name": "python3",
      "display_name": "Python 3"
    },
    "language_info": {
      "name": "python"
    }
  },
  "cells": [
    {
      "cell_type": "markdown",
      "source": [
        "# 1.12. Publicando uma Visualização (Italo Santos)\n",
        "\n",
        "Após visualizar seus dados, talvez você queira publicá-los em algum lugar da web. Isso pode ser feito diretamente usando o [vega-embed JavaScript package](https://github.com/vega/vega-embed). Um exemplo simples de documento HTML independente pode ser gerado para qualquer gráfico usando o método `Chart.save`:"
      ],
      "metadata": {
        "id": "u7itiucTrkRI"
      }
    },
    {
      "cell_type": "markdown",
      "source": [
        "```python\n",
        "chart = alt.Chart(df).mark_bar().encode(\n",
        "    x='average(precip)',\n",
        "    y='city',\n",
        ")\n",
        "chart.save('chart.html')\n",
        "```"
      ],
      "metadata": {
        "id": "ZjA6-VT1xw7s"
      }
    },
    {
      "cell_type": "markdown",
      "source": [
        "O modelo HTML básico produz uma saída semelhante a esta, onde a especificação JSON para seu gráfico produzida por `Chart.to_json` deve ser armazenado na variável JavaScript\n",
        "`spec`:"
      ],
      "metadata": {
        "id": "8huN4tpDsO-I"
      }
    },
    {
      "cell_type": "markdown",
      "source": [
        "```html\n",
        "<!DOCTYPE html>\n",
        "<html>\n",
        "  <head>\n",
        "    <script src=\"https://cdn.jsdelivr.net/npm/vega@5\"></script>\n",
        "    <script src=\"https://cdn.jsdelivr.net/npm/vega-lite@4\"></script>\n",
        "    <script src=\"https://cdn.jsdelivr.net/npm/vega-embed@6\"></script>\n",
        "  </head>\n",
        "  <body>\n",
        "  <div id=\"vis\"></div>\n",
        "  <script>\n",
        "    (function(vegaEmbed) {\n",
        "      var spec = {}; // Saída JSON para a especificação do seu gráfico\n",
        "      var embedOpt = {\"mode\": \"vega-lite\"}; // Opções para incorporação\n",
        "\n",
        "      function showError(el, error){ //Função para exibir erros\n",
        "          el.innerHTML = ('<div style=\"color:red;\">'\n",
        "                          + '<p>JavaScript Error: ' + error.message + '</p>'\n",
        "                          + \"<p>This usually means there's a typo in your chart specification. \"\n",
        "                          + \"See the javascript console for the full traceback.</p>\"\n",
        "                          + '</div>');\n",
        "          throw error;\n",
        "      }\n",
        "      const el = document.getElementById('vis'); // Obtém o elemento HTML onde o gráfico será inserido\n",
        "      vegaEmbed(\"#vis\", spec, embedOpt) // Tenta renderizar o gráfico usando o Vega Embed\n",
        "        .catch(error => showError(el, error));\n",
        "    })(vegaEmbed);\n",
        "  </script>\n",
        "</body>\n",
        "</html>\n",
        " ```"
      ],
      "metadata": {
        "id": "RWpyysrbx1Gb"
      }
    },
    {
      "cell_type": "markdown",
      "source": [
        "O `Chart.save` fornece uma maneira conveniente de salvar essa saída HTML em um arquivo. Para obter mais informações sobre incorporação Altair/Vega-Lite, veja o [documentation of the vega-embed project](https://github.com/vega/vega-embed)."
      ],
      "metadata": {
        "id": "TSHJVnVmsboy"
      }
    },
    {
      "cell_type": "markdown",
      "source": [
        "# 1.13 Próximas etapas (Italo Santos)\n",
        "\n",
        "🎉 Parabéns, você completou a introdução ao Altair! No próximo notebook, nos aprofundaremos na criação de visualizações usando o modelo de tipos de dados, marcas gráficas e canais de codificação visual do Altair."
      ],
      "metadata": {
        "id": "tx4WqpZoskox"
      }
    }
  ]
}